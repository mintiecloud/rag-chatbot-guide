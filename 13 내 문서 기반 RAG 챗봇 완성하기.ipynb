{
 "cells": [
  {
   "cell_type": "markdown",
   "metadata": {},
   "source": [
    "# 내 문서 기반 RAG 챗봇 완성하기\n",
    "\n",
    "* 지금까지의 실습 결과를 종합하여,\n",
    "* 하나의 완성형 RAG 챗봇을 구성합니다.\n",
    "* 사용자 질문에 대해, 내 문서로부터 유사한 내용을 검색하고,\n",
    "* LLM이 검색 결과를 바탕으로 응답을 생성하도록 합니다."
   ]
  },
  {
   "cell_type": "markdown",
   "metadata": {},
   "source": [
    "### 1. 환경 로드 및 임베딩 모델 세팅"
   ]
  },
  {
   "cell_type": "code",
   "execution_count": 8,
   "metadata": {},
   "outputs": [],
   "source": [
    "from langchain.vectorstores import FAISS\n",
    "from langchain.embeddings import HuggingFaceEmbeddings\n",
    "from langchain.chat_models import ChatOpenAI\n",
    "from langchain.chains import RetrievalQA\n",
    "from dotenv import load_dotenv\n",
    "import os\n",
    "\n",
    "load_dotenv()\n",
    "\n",
    "# 임베딩 모델 (E5)\n",
    "embedding = HuggingFaceEmbeddings(model_name=\"intfloat/multilingual-e5-small\")\n",
    "\n",
    "# 벡터 인덱스 불러오기\n",
    "faiss_index = FAISS.load_local(\n",
    "    \"embeddings/faiss_index_e5\",\n",
    "    embeddings=embedding,\n",
    "    allow_dangerous_deserialization=True\n",
    ")\n",
    "retriever = faiss_index.as_retriever(search_kwargs={\"k\": 3})"
   ]
  },
  {
   "cell_type": "markdown",
   "metadata": {},
   "source": [
    "### 3. LLM 세팅 (GPT)"
   ]
  },
  {
   "cell_type": "code",
   "execution_count": 9,
   "metadata": {},
   "outputs": [],
   "source": [
    "llm = ChatOpenAI(model=\"gpt-3.5-turbo\", temperature=0)"
   ]
  },
  {
   "cell_type": "markdown",
   "metadata": {},
   "source": [
    "### 4. RetrievalQA 체인 구성"
   ]
  },
  {
   "cell_type": "code",
   "execution_count": 10,
   "metadata": {},
   "outputs": [],
   "source": [
    "qa_chain = RetrievalQA.from_chain_type(\n",
    "    llm=llm,\n",
    "    retriever=retriever,\n",
    "    chain_type=\"stuff\"\n",
    ")"
   ]
  },
  {
   "cell_type": "markdown",
   "metadata": {},
   "source": [
    "### 5. 내 문서 기반 Q\\&A 테스트"
   ]
  },
  {
   "cell_type": "code",
   "execution_count": 11,
   "metadata": {},
   "outputs": [
    {
     "name": "stdout",
     "output_type": "stream",
     "text": [
      "\n",
      "[Q] 국회의원은 몇 년마다 선출되나요?\n",
      "[A] 국회의원은 대한민국 헌법에 따라 매 4년마다 선출됩니다.\n",
      "\n",
      "[Q] 대한민국의 주권은 누구에게 있나요?\n",
      "[A] 대한민국의 주권은 국민에게 있습니다.\n",
      "\n",
      "[Q] 헌법 제1조는 어떤 내용을 담고 있나요?\n",
      "[A] 헌법 제1조는 \"이 헌법은 1988년 2월 25일부터 시행한다. 다만, 이 헌법을 시행하기 위하여 필요한 법률의 제정ㆍ개정과 이 헌법에 의한 대통령 및 국회의원의 선거 기타 이 헌법시행에 관한 준비는 이 헌법시행 전에 할 수 있다.\" 라는 내용을 담고 있습니다.\n"
     ]
    }
   ],
   "source": [
    "queries = [\n",
    "    \"국회의원은 몇 년마다 선출되나요?\",\n",
    "    \"대한민국의 주권은 누구에게 있나요?\",\n",
    "    \"헌법 제1조는 어떤 내용을 담고 있나요?\"\n",
    "]\n",
    "\n",
    "for q in queries:\n",
    "    print(f\"\\n[Q] {q}\")\n",
    "    print(\"[A]\", qa_chain.run(q))"
   ]
  },
  {
   "cell_type": "markdown",
   "metadata": {},
   "source": [
    "### 6. 사용자 입력 기반 챗봇 인터페이스 (기초형)\n",
    "- 이후 Streamlit을 활용하면 GUI 웹 챗봇으로도 확장 가능합니다."
   ]
  },
  {
   "cell_type": "code",
   "execution_count": 12,
   "metadata": {},
   "outputs": [
    {
     "name": "stdout",
     "output_type": "stream",
     "text": [
      "[답변] 제1조 이 헌법은 1988년 2월 25일부터 시행한다. 다만, 이 헌법을 시행하기 위하여 필요한 법률의 제정ㆍ개정과 이 헌법에 의한 대통령 및 국회의원의 선거 기타 이 헌법시행에 관한 준비는 이 헌법시행 전에 할 수 있다.\n"
     ]
    }
   ],
   "source": [
    "while True:\n",
    "    query = input(\"\\n질문을 입력하세요 (종료하려면 q): \")\n",
    "    if query.lower() == 'q':\n",
    "        break\n",
    "    print(\"[답변]\", qa_chain.run(query))"
   ]
  },
  {
   "cell_type": "markdown",
   "metadata": {},
   "source": [
    "### 7. 정리\n",
    "* 이 챕터에서는 지금까지 만든 인덱스를 활용하여,\n",
    "* 실제로 \"내 문서 기반 RAG 챗봇\"을 구성해 보았습니다.\n",
    "* 질문 → 검색 → 생성의 흐름이 하나의 체인으로 완성됩니다.\n",
    "\n",
    "* 지금 챗봇은 동작은 하지만…\n",
    "\n",
    "  * 검색 품질을 높일 순 없을까?\n",
    "  * 응답 속도를 더 빠르게 할 수는 없을까?\n",
    "\n",
    "> 다음 강의에서는 이 챗봇을 **개선하고 최적화**하는 고급 기법들 (Chunking, Hybrid Search 등)을 학습합니다.\n",
    "\n"
   ]
  }
 ],
 "metadata": {
  "kernelspec": {
   "display_name": "Python 3",
   "language": "python",
   "name": "python3"
  },
  "language_info": {
   "codemirror_mode": {
    "name": "ipython",
    "version": 3
   },
   "file_extension": ".py",
   "mimetype": "text/x-python",
   "name": "python",
   "nbconvert_exporter": "python",
   "pygments_lexer": "ipython3",
   "version": "3.10.16"
  }
 },
 "nbformat": 4,
 "nbformat_minor": 2
}
