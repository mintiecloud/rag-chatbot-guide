{
 "cells": [
  {
   "cell_type": "markdown",
   "metadata": {},
   "source": [
    " # 1. 실습 환경 준비 및 필수 도구 설치"
   ]
  },
  {
   "cell_type": "markdown",
   "metadata": {},
   "source": [
    "- 파이썬 설치 : https://www.python.org/downloads/\n",
    "- 가상환경 생성 (최초 1회만 실행)\n",
    "  - python -m venv rag-env    \n",
    "- 가상환경 활성화\n",
    "  - Mac : source rag-env/bin/activate  \n",
    "  - Window : rag-env\\Scripts\\activate\n",
    "- 이후 아래 패키지를 최초 1회만 설치 (터미널 or 노트북파일 내)"
   ]
  },
  {
   "cell_type": "code",
   "execution_count": 1,
   "metadata": {},
   "outputs": [],
   "source": [
    "# 필수 패키지 설치\n",
    "# pip install -U langchain-openai langchain langchain-community openai python-dotenv"
   ]
  },
  {
   "cell_type": "markdown",
   "metadata": {},
   "source": [
    "# 2. 환경변수 로드\n",
    "- https://platform.openai.com/api-keys 에서 API 발급\n",
    "- .env 파일 필요\n",
    "  - .env 파일 내용: OPENAI_API_KEY=sk-..."
   ]
  },
  {
   "cell_type": "code",
   "execution_count": 17,
   "metadata": {},
   "outputs": [
    {
     "data": {
      "text/plain": [
       "True"
      ]
     },
     "execution_count": 17,
     "metadata": {},
     "output_type": "execute_result"
    }
   ],
   "source": [
    "from dotenv import load_dotenv\n",
    "import os\n",
    "\n",
    "load_dotenv()"
   ]
  },
  {
   "cell_type": "code",
   "execution_count": 18,
   "metadata": {},
   "outputs": [
    {
     "name": "stdout",
     "output_type": "stream",
     "text": [
      "🔑 OpenAI API 키 로딩 성공!\n"
     ]
    }
   ],
   "source": [
    "openai_api_key = os.getenv(\"OPENAI_API_KEY\")\n",
    "if openai_api_key:\n",
    "    print(\"🔑 OpenAI API 키 로딩 성공!\")\n",
    "else:\n",
    "    print(\"❌ OpenAI API 키가 설정되지 않았습니다. .env 파일을 확인하세요.\")"
   ]
  },
  {
   "cell_type": "markdown",
   "metadata": {},
   "source": [
    "# 3. LangChain을 활용한 OpenAI 모델 호출 테스트\n",
    "- https://platform.openai.com/api-keys 에서 API 키를 발급받아 사용"
   ]
  },
  {
   "cell_type": "code",
   "execution_count": 19,
   "metadata": {},
   "outputs": [],
   "source": [
    "from langchain_openai import ChatOpenAI\n",
    "from langchain.schema import HumanMessage\n",
    "\n",
    "# temperature, model_name 등 주요 파라미터 지정\n",
    "llm = ChatOpenAI(\n",
    "    temperature=0.5,\n",
    "    model_name=\"gpt-3.5-turbo\"\n",
    ")"
   ]
  },
  {
   "cell_type": "markdown",
   "metadata": {},
   "source": [
    "# 4. LangChain의 다양한 입력 방식 테스트"
   ]
  },
  {
   "cell_type": "markdown",
   "metadata": {},
   "source": [
    "### 4-1. invoke() 사용 "
   ]
  },
  {
   "cell_type": "code",
   "execution_count": 20,
   "metadata": {},
   "outputs": [
    {
     "name": "stdout",
     "output_type": "stream",
     "text": [
      "📨 답변 (invoke 사용): RAG(Retrieval-Augmented Generation)는 자연어 처리 분야에서 사용되는 모델로, 정보 검색과 생성을 결합한 방식으로 동작합니다. RAG는 먼저 대규모의 텍스트 데이터를 검색하여 관련 정보를 검색한 후, 이 정보를 기반으로 새로운 텍스트를 생성합니다. 이를 통해 더 정확하고 의미 있는 텍스트 생성을 가능하게 합니다. RAG는 주로 대화 시스템, 질문 응답 시스템, 요약 생성 등 다양한 자연어 처리 작업에 활용됩니다.\n"
     ]
    }
   ],
   "source": [
    "response2 = llm.invoke(\"RAG(Retrieval-Augmented Generation)가 뭐야?\")\n",
    "print(\"📨 답변 (invoke 사용):\", response2.content)"
   ]
  },
  {
   "cell_type": "markdown",
   "metadata": {},
   "source": [
    "### 4-2. 다양한 메시지 타입 테스트 \n",
    "- SystemMessage 포함"
   ]
  },
  {
   "cell_type": "code",
   "execution_count": 21,
   "metadata": {},
   "outputs": [
    {
     "name": "stdout",
     "output_type": "stream",
     "text": [
      "📨 답변 (SystemMessage 포함): RAG(검색 보조 생성)은 자연어 처리 분야에서 사용되는 모델 아키텍처 중 하나로, 검색 기능을 통해 생성 모델의 성능을 향상시키는 방법입니다. 이 모델은 검색 엔진을 활용해 입력 문장에 관련된 정보를 검색한 후, 이 정보를 활용하여 보다 정확하고 의미 있는 문장을 생성합니다.\n",
      "\n",
      "간단히 말해, RAG는 생성 모델과 검색 엔진을 결합하여 더욱 정확하고 의미 있는 결과를 얻을 수 있도록 도와주는 기술이라고 할 수 있습니다. 이를 통해 자연어 처리 모델의 성능을 향상시키고 다양한 응용 분야에 활용할 수 있게 됩니다.\n"
     ]
    }
   ],
   "source": [
    "from langchain.schema import SystemMessage\n",
    "\n",
    "messages = [\n",
    "    SystemMessage(content=\"너는 친절한 AI야. 초보자 눈높이에 맞춰 자세히 설명해줘.\"),\n",
    "    HumanMessage(content=\"RAG(Retrieval-Augmented Generation)가 뭐야?\")\n",
    "]\n",
    "response3 = llm(messages)\n",
    "print(\"📨 답변 (SystemMessage 포함):\", response3.content)"
   ]
  }
 ],
 "metadata": {
  "kernelspec": {
   "display_name": "Python 3",
   "language": "python",
   "name": "python3"
  },
  "language_info": {
   "codemirror_mode": {
    "name": "ipython",
    "version": 3
   },
   "file_extension": ".py",
   "mimetype": "text/x-python",
   "name": "python",
   "nbconvert_exporter": "python",
   "pygments_lexer": "ipython3",
   "version": "3.10.16"
  }
 },
 "nbformat": 4,
 "nbformat_minor": 2
}
