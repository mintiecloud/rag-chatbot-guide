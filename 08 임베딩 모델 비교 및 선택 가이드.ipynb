{
 "cells": [
  {
   "cell_type": "markdown",
   "metadata": {},
   "source": [
    "# 임베딩 모델 비교 및 선택 가이드 (2025년 5월 기준)\n",
    "\n",
    "RAG 실습 및 실제 프로젝트에서 사용할 수 있는 다양한 임베딩 모델을 비교하여,  \n",
    "각 모델의 특성과 과금 체계를 이해하고, 목적에 맞는 모델을 선택할 수 있도록 돕습니다.\n",
    "\n",
    "---\n",
    "\n",
    "## 실습에 사용된 임베딩 모델\n",
    "\n",
    "| 모델명 | 제공처 | 특징 | 장점 | 단점 | 과금 체계 (2025.05 기준) |\n",
    "|--------|--------|------|------|------|--------------------------|\n",
    "| `text-embedding-3-small` | OpenAI | 클라우드 기반 API | 정확도 높음, 사용 편리 | 비용 발생, API 필요 | $0.00002 / 1K tokens |\n",
    "| `jhgan/ko-sroberta-multitask` | Hugging Face | 한국어 특화 SBERT | 무료, 로컬 실행 가능 | 성능 다소 낮음, 구버전 | 무료 |\n",
    "| `intfloat/multilingual-e5-small` | Hugging Face | 다국어 지원, RAG 최적화 | 경량, 무료, 성능 우수 | 문서 구조 설계 필요 | 무료 |\n",
    "\n",
    "---\n",
    "\n",
    "## 실습에는 사용되지 않았지만 자주 쓰이는 임베딩 모델\n",
    "\n",
    "| 모델명 | 제공처 | 특징 | 장점 | 단점 | 과금 체계 (2025.05 기준) |\n",
    "|--------|--------|------|------|------|--------------------------|\n",
    "| `BAAI/bge-small-en-v1.5` | Hugging Face | 영어 전용, RAG 최적화 | 성능 우수, 빠름 | 한국어 지원 X | 무료 |\n",
    "| `BAAI/bge-m3` | Hugging Face | 다국어 지원, 최신 BGE 구조 | 높은 정확도, 최신 | 실행 무거움 | 무료 |\n",
    "| `Voyage/voyage-3-lite` | Voyage AI | 최신 고정밀 임베딩 | ChatGPT보다 우수한 성능 | 상업적 사용 유료 | $0.0001 / 1K tokens (약) |\n",
    "| `sentence-transformers/all-MiniLM-L6-v2` | Hugging Face | SBERT 대표 모델 | 빠름, 다양한 언어 | 최신 모델 대비 성능 낮음 | 무료 |\n",
    "| `cohere.embed-english-v3.0` | Cohere | Cohere 전용 API | 품질 우수, 쿼리/문서 구분 | API Key 필요 | 약 $0.0001 / 1K tokens |\n",
    "\n",
    "---\n",
    "\n",
    "## 모델 선택 가이드라인\n",
    "\n",
    "| 사용 목적 | 추천 모델 |\n",
    "|------------|----------------------|\n",
    "| 한국어 중심 챗봇 | `ko-sroberta`, `e5-small` |\n",
    "| 다국어 문서 검색 | `bge-m3`, `e5-multilingual` |\n",
    "| 정확도가 가장 중요할 때 | `OpenAI`, `Voyage`, `Cohere` |\n",
    "| 무료 / 오프라인 실행 필요 | Hugging Face 계열 (KoSBERT, BGE 등) |\n",
    "| 경량 & 빠른 테스트 | `MiniLM`, `e5-small` |\n",
    "\n",
    "---\n",
    "\n",
    "## 참고 자료\n",
    "\n",
    "- OpenAI 임베딩 모델 정보: https://platform.openai.com/docs/guides/embeddings\n",
    "- Hugging Face 모델 허브: https://huggingface.co/models\n",
    "- Cohere API 가격: https://docs.cohere.com/reference/pricing\n",
    "- VoyageAI 소개: https://www.voyageai.com"
   ]
  }
 ],
 "metadata": {
  "kernelspec": {
   "display_name": "Python 3",
   "language": "python",
   "name": "python3"
  },
  "language_info": {
   "name": "python",
   "version": "3.11.7"
  }
 },
 "nbformat": 4,
 "nbformat_minor": 2
}
