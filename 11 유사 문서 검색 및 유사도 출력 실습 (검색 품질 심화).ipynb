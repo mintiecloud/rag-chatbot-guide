{
 "cells": [
  {
   "cell_type": "markdown",
   "metadata": {},
   "source": [
    "# 유사 문서 검색 실습 (검색 품질 심화)\n",
    "\n",
    "* Top-K 검색 결과의 의미와 성능 차이를 이해하고,\n",
    "* 검색 유사도 점수(score) 개념을 학습하며,\n",
    "* 검색 품질을 조정하기 위한 실습을 진행합니다."
   ]
  },
  {
   "cell_type": "markdown",
   "metadata": {},
   "source": [
    "### 1. 사전 준비"
   ]
  },
  {
   "cell_type": "code",
   "execution_count": 12,
   "metadata": {},
   "outputs": [],
   "source": [
    "from langchain.vectorstores import FAISS\n",
    "from langchain.embeddings import HuggingFaceEmbeddings\n",
    "from dotenv import load_dotenv\n",
    "import os\n",
    "import numpy as np\n",
    "\n",
    "load_dotenv()\n",
    "embedding = HuggingFaceEmbeddings(model_name=\"intfloat/multilingual-e5-small\")\n",
    "\n",
    "# 저장된 인덱스 불러오기\n",
    "faiss_index = FAISS.load_local(\n",
    "    \"embeddings/faiss_index_e5\",\n",
    "    embeddings=embedding,\n",
    "    allow_dangerous_deserialization=True\n",
    ")\n",
    "retriever = faiss_index.as_retriever()"
   ]
  },
  {
   "cell_type": "markdown",
   "metadata": {},
   "source": [
    "### 2. Top-K 검색 결과 비교 실습\n",
    "- **Tip**: K가 높아질수록 더 많은 문서를 참조하지만, 모델이 혼란스러워질 수도 있습니다. (답변 품질 저하)"
   ]
  },
  {
   "cell_type": "code",
   "execution_count": 13,
   "metadata": {},
   "outputs": [
    {
     "name": "stdout",
     "output_type": "stream",
     "text": [
      "\n",
      "--- Top-1 검색 결과 ---\n",
      "1. ②원장은 국회의 동의를 얻어 대통령이 임명하고, 그 임기는 4년으로 하며, 1차에 한하여 중임할 수 있다. ...\n",
      "\n",
      "--- Top-3 검색 결과 ---\n",
      "1. ②원장은 국회의 동의를 얻어 대통령이 임명하고, 그 임기는 4년으로 하며, 1차에 한하여 중임할 수 있다. ...\n",
      "2. 제3조 ①이 헌법에 의한 최초의 국회의원선거는 이 헌법공포일로부터 6월 이내에 실시하며, 이 헌법에 의하여 선출된 최초의 국회의원의 임기는 국회의원선거후 이 헌법에 의한 국회의 최 ...\n",
      "3. ②이 헌법공포 당시의 국회의원의 임기는 제1항에 의한 국회의 최초의 집회일 전일까지로 한다. ...\n",
      "\n",
      "--- Top-5 검색 결과 ---\n",
      "1. ②원장은 국회의 동의를 얻어 대통령이 임명하고, 그 임기는 4년으로 하며, 1차에 한하여 중임할 수 있다. ...\n",
      "2. 제3조 ①이 헌법에 의한 최초의 국회의원선거는 이 헌법공포일로부터 6월 이내에 실시하며, 이 헌법에 의하여 선출된 최초의 국회의원의 임기는 국회의원선거후 이 헌법에 의한 국회의 최 ...\n",
      "3. ②이 헌법공포 당시의 국회의원의 임기는 제1항에 의한 국회의 최초의 집회일 전일까지로 한다. ...\n",
      "4. 제86조 ①국무총리는 국회의 동의를 얻어 대통령이 임명한다. ...\n",
      "5. 제104조 ①대법원장은 국회의 동의를 얻어 대통령이 임명한다. ...\n"
     ]
    }
   ],
   "source": [
    "query = \"국회의 임기는 몇 년인가요?\"\n",
    "\n",
    "# 다양한 K 값 실험\n",
    "for k in [1, 3, 5]:\n",
    "    print(f\"\\n--- Top-{k} 검색 결과 ---\")\n",
    "    retriever.search_kwargs[\"k\"] = k\n",
    "    results = retriever.get_relevant_documents(query)\n",
    "    \n",
    "    for i, doc in enumerate(results, 1):\n",
    "        print(f\"{i}.\", doc.page_content.strip()[:100], \"...\")"
   ]
  },
  {
   "cell_type": "markdown",
   "metadata": {},
   "source": [
    "### 3. 유사도 점수 확인\n",
    "\n",
    "LangChain 기본 retriever에서는 점수를 직접 제공하지 않지만,\n",
    "**FAISS 객체 내부에서 직접 벡터 간 거리 계산으로 유사도 점수**를 확인할 수 있습니다.\n",
    "\n",
    "- 점수가 낮을수록 유사도가 높은 것입니다 (L2 거리 기준)\n",
    "- FAISS는 기본적으로 거리 기반 검색을 수행합니다."
   ]
  },
  {
   "cell_type": "code",
   "execution_count": 14,
   "metadata": {},
   "outputs": [
    {
     "name": "stdout",
     "output_type": "stream",
     "text": [
      "\n",
      "🔍 Top-3 검색 결과 (L2 거리 기준 유사도):\n",
      "\n",
      "1. 거리: 0.4656\n",
      "   문장: ②원장은 국회의 동의를 얻어 대통령이 임명하고, 그 임기는 4년으로 하며, 1차에 한하여 중임할 수 있다. ...\n",
      "\n",
      "2. 거리: 0.4820\n",
      "   문장: 제3조 ①이 헌법에 의한 최초의 국회의원선거는 이 헌법공포일로부터 6월 이내에 실시하며, 이 헌법에 의하여 선출된 최초의 국회의원의 임기는 국회의원선거후 이 헌법에 의한 국회의 최 ...\n",
      "\n",
      "3. 거리: 0.4896\n",
      "   문장: ②이 헌법공포 당시의 국회의원의 임기는 제1항에 의한 국회의 최초의 집회일 전일까지로 한다. ...\n",
      "\n"
     ]
    }
   ],
   "source": [
    "import numpy as np\n",
    "\n",
    "# 쿼리 임베딩 구하기\n",
    "query = \"국회의 임기는 몇 년인가요?\"\n",
    "query_vec = embedding.embed_query(query)\n",
    "\n",
    "# Top-K 문서 가져오기\n",
    "k = 3\n",
    "retriever.search_kwargs[\"k\"] = k\n",
    "results = retriever.get_relevant_documents(query)\n",
    "\n",
    "# 문서의 임베딩 벡터도 직접 계산\n",
    "doc_vectors = [embedding.embed_query(doc.page_content) for doc in results]\n",
    "\n",
    "# L2 거리 계산 및 출력\n",
    "print(f\"\\n🔍 Top-{k} 검색 결과 (L2 거리 기준 유사도):\\n\")\n",
    "for i, (doc, vec) in enumerate(zip(results, doc_vectors), 1):\n",
    "    distance = np.linalg.norm(np.array(query_vec) - np.array(vec))\n",
    "    print(f\"{i}. 거리: {distance:.4f}\")\n",
    "    print(\"   문장:\", doc.page_content.strip()[:100], \"...\\n\")"
   ]
  },
  {
   "cell_type": "code",
   "execution_count": 15,
   "metadata": {},
   "outputs": [
    {
     "name": "stdout",
     "output_type": "stream",
     "text": [
      "\n",
      "🎯 L2 거리 ≤ 1.0 인 문서만 출력 (Top-5 중에서 필터링)\n",
      "\n",
      "1. 거리: 0.4656\n",
      "   문장: ②원장은 국회의 동의를 얻어 대통령이 임명하고, 그 임기는 4년으로 하며, 1차에 한하여 중임할 수 있다. ...\n",
      "\n",
      "2. 거리: 0.4820\n",
      "   문장: 제3조 ①이 헌법에 의한 최초의 국회의원선거는 이 헌법공포일로부터 6월 이내에 실시하며, 이 헌법에 의하여 선출된 최초의 국회의원의 임기는 국회의원선거후 이 헌법에 의한 국회의 최 ...\n",
      "\n",
      "3. 거리: 0.4896\n",
      "   문장: ②이 헌법공포 당시의 국회의원의 임기는 제1항에 의한 국회의 최초의 집회일 전일까지로 한다. ...\n",
      "\n",
      "4. 거리: 0.4897\n",
      "   문장: 제86조 ①국무총리는 국회의 동의를 얻어 대통령이 임명한다. ...\n",
      "\n",
      "5. 거리: 0.4986\n",
      "   문장: 제104조 ①대법원장은 국회의 동의를 얻어 대통령이 임명한다. ...\n",
      "\n"
     ]
    }
   ],
   "source": [
    "import numpy as np\n",
    "\n",
    "query = \"국회의 임기는 몇 년인가요?\"\n",
    "query_vec = embedding.embed_query(query)\n",
    "\n",
    "# Top-K 설정\n",
    "k = 5\n",
    "retriever.search_kwargs[\"k\"] = k\n",
    "results = retriever.get_relevant_documents(query)\n",
    "\n",
    "# 거리 계산 및 필터링\n",
    "threshold = 1.0  # 이 값보다 가까운(=유사한) 문서만 필터링\n",
    "filtered = []\n",
    "\n",
    "for doc in results:\n",
    "    doc_vec = embedding.embed_query(doc.page_content)\n",
    "    distance = np.linalg.norm(np.array(query_vec) - np.array(doc_vec))\n",
    "    \n",
    "    if distance <= threshold:\n",
    "        filtered.append((distance, doc.page_content.strip()))\n",
    "\n",
    "# 출력\n",
    "print(f\"\\n🎯 L2 거리 ≤ {threshold} 인 문서만 출력 (Top-{k} 중에서 필터링)\\n\")\n",
    "for i, (distance, content) in enumerate(filtered, 1):\n",
    "    print(f\"{i}. 거리: {distance:.4f}\")\n",
    "    print(\"   문장:\", content[:100], \"...\\n\")"
   ]
  },
  {
   "cell_type": "markdown",
   "metadata": {},
   "source": [
    "### 4. 정리 및 다음 단계\n",
    "\n",
    "* Top-K 값에 따라 결과 품질이 달라질 수 있습니다.\n",
    "* 유사도 점수를 기준으로 검색 결과의 신뢰도를 판단할 수 있습니다.\n",
    "* 검색 품질을 높이려면 다음도 고려해야 합니다:\n",
    "\n",
    "  * 적절한 Chunking\n",
    "  * 임베딩 모델 선택\n",
    "  * 문서 전처리"
   ]
  },
  {
   "cell_type": "markdown",
   "metadata": {},
   "source": []
  }
 ],
 "metadata": {
  "kernelspec": {
   "display_name": "Python 3",
   "language": "python",
   "name": "python3"
  },
  "language_info": {
   "codemirror_mode": {
    "name": "ipython",
    "version": 3
   },
   "file_extension": ".py",
   "mimetype": "text/x-python",
   "name": "python",
   "nbconvert_exporter": "python",
   "pygments_lexer": "ipython3",
   "version": "3.10.16"
  }
 },
 "nbformat": 4,
 "nbformat_minor": 2
}
