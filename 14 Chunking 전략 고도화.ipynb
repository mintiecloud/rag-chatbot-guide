{
 "cells": [
  {
   "cell_type": "markdown",
   "metadata": {},
   "source": [
    "# Chunking 전략 고도화\n",
    "텍스트를 어떻게 나누는지(Chunking)는 검색 정확도와 LLM 응답 품질에 직접적인 영향을 줍니다.\n",
    "이번 실습에서는 다양한 Chunking 전략을 실험해봅니다."
   ]
  },
  {
   "cell_type": "markdown",
   "metadata": {},
   "source": [
    "## 1. Chunking이 중요한 이유\n",
    "- 너무 짧으면 정보 부족 → LLM이 답변을 잘 못함\n",
    "- 너무 길면 검색 정확도 저하 또는 토큰 초과 발생\n",
    "- 최적의 길이와 Overlap 설정은 검색 품질에 핵심적인 역할을 합니다."
   ]
  },
  {
   "cell_type": "markdown",
   "metadata": {},
   "source": [
    "## 2. 기본 세팅"
   ]
  },
  {
   "cell_type": "code",
   "execution_count": 1,
   "metadata": {},
   "outputs": [],
   "source": [
    "from langchain.text_splitter import RecursiveCharacterTextSplitter\n",
    "from langchain.embeddings import HuggingFaceEmbeddings\n",
    "from langchain.vectorstores import FAISS\n",
    "import os\n",
    "\n",
    "# 텍스트 로드\n",
    "with open(\"kr_constitution_cleaned.txt\", \"r\", encoding=\"utf-8\") as f:\n",
    "    raw_text = f.read()"
   ]
  },
  {
   "cell_type": "markdown",
   "metadata": {},
   "source": [
    "## 3. 다양한 Chunk 설정 테스트"
   ]
  },
  {
   "cell_type": "code",
   "execution_count": 2,
   "metadata": {},
   "outputs": [
    {
     "name": "stdout",
     "output_type": "stream",
     "text": [
      "[1] 기본 설정 - 문단 수: 70\n"
     ]
    }
   ],
   "source": [
    "# 설정 1: 기본 (chunk_size=300, overlap=0)\n",
    "splitter1 = RecursiveCharacterTextSplitter(chunk_size=300, chunk_overlap=0)\n",
    "chunks1 = splitter1.split_text(raw_text)\n",
    "print(\"[1] 기본 설정 - 문단 수:\", len(chunks1))"
   ]
  },
  {
   "cell_type": "code",
   "execution_count": 3,
   "metadata": {},
   "outputs": [
    {
     "name": "stdout",
     "output_type": "stream",
     "text": [
      "[2] Overlap 50 - 문단 수: 74\n"
     ]
    }
   ],
   "source": [
    "# 설정 2: Overlap 추가 (chunk_size=300, overlap=50)\n",
    "splitter2 = RecursiveCharacterTextSplitter(chunk_size=300, chunk_overlap=50)\n",
    "chunks2 = splitter2.split_text(raw_text)\n",
    "print(\"[2] Overlap 50 - 문단 수:\", len(chunks2))"
   ]
  },
  {
   "cell_type": "code",
   "execution_count": 4,
   "metadata": {},
   "outputs": [
    {
     "name": "stdout",
     "output_type": "stream",
     "text": [
      "[3] 짧은 chunk - 문단 수: 168\n"
     ]
    }
   ],
   "source": [
    "# 설정 3: 더 짧은 chunk (chunk_size=150, overlap=30)\n",
    "splitter3 = RecursiveCharacterTextSplitter(chunk_size=150, chunk_overlap=30)\n",
    "chunks3 = splitter3.split_text(raw_text)\n",
    "print(\"[3] 짧은 chunk - 문단 수:\", len(chunks3))"
   ]
  },
  {
   "cell_type": "markdown",
   "metadata": {},
   "source": [
    "## 4. 정리\n",
    "- 적절한 chunk size와 overlap은 검색 정확도와 응답 신뢰도에 영향을 줍니다.\n",
    "- 이후 실습에서 이 중 어떤 전략이 성능이 더 좋은지 테스트해볼 수 있습니다."
   ]
  }
 ],
 "metadata": {
  "kernelspec": {
   "display_name": "Python 3",
   "language": "python",
   "name": "python3"
  },
  "language_info": {
   "codemirror_mode": {
    "name": "ipython",
    "version": 3
   },
   "file_extension": ".py",
   "mimetype": "text/x-python",
   "name": "python",
   "nbconvert_exporter": "python",
   "pygments_lexer": "ipython3",
   "version": "3.10.16"
  }
 },
 "nbformat": 4,
 "nbformat_minor": 2
}
