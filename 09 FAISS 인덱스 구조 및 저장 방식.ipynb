{
 "cells": [
  {
   "cell_type": "markdown",
   "metadata": {},
   "source": [
    "# FAISS 인덱스 구조 및 저장 방식\n",
    "FAISS 벡터 데이터베이스의 개념과 저장 방식을 학습합니다.\n",
    "1. FAISS는 왜 필요한가? (간단 복습)\n",
    "2. 저장된 FAISS 인덱스는 어떻게 구성되어 있을까?\n",
    "3. FAISS 인덱스 불러오기 및 검색 실습\n",
    "4. 정리 및 다음 실습 안내"
   ]
  },
  {
   "cell_type": "markdown",
   "metadata": {},
   "source": [
    "### 1. FAISS는 왜 필요한가?\n",
    "\n",
    "앞 실습에서는 텍스트를 벡터로 변환한 뒤, `FAISS`를 통해 인덱스를 생성하고 저장했습니다.\n",
    "\n",
    "```python\n",
    "faiss_index = FAISS.from_texts(texts=chunks, embedding=embedding)\n",
    "faiss_index.save_local(\"faiss_index_e5\")\n",
    "````\n",
    "\n",
    "그렇다면 저장된 이 인덱스는 **어떤 구조로 구성되어 있고**,\n",
    "**어떻게 다시 불러와서 사용할 수 있을까요?**\n",
    "이번 시간엔 그 구조와 재사용 방식까지 함께 알아봅니다.\n"
   ]
  },
  {
   "cell_type": "markdown",
   "metadata": {},
   "source": [
    "### 2. 저장된 FAISS 인덱스 구조 살펴보기\n",
    "\n",
    "`faiss_index.save_local(\"faiss_index_sample\")` 명령을 실행하면\n",
    "다음과 같은 파일들이 생성됩니다:\n",
    "\n",
    "```\n",
    "faiss_index_sample/\n",
    "├── index.faiss   ← 벡터 인덱스가 저장된 바이너리\n",
    "└── index.pkl     ← 텍스트 내용 등 메타 정보 (Python 객체)\n",
    "```\n",
    "\n",
    "* **`index.faiss`** : FAISS 라이브러리가 생성한 실제 벡터 인덱스 데이터가 저장된 바이너리 파일입니다.\n",
    "* **`index.pkl`** : LangChain에서 관리하는 문서 내용 및 기타 메타데이터가 포함된 Python 객체입니다.\n",
    "\n",
    "> 이 두 파일을 함께 저장하고 불러와야, 검색 시 원래 문서 내용까지 확인할 수 있습니다."
   ]
  },
  {
   "cell_type": "markdown",
   "metadata": {},
   "source": [
    "### 3. 저장된 인덱스 불러와서 검색해보기"
   ]
  },
  {
   "cell_type": "code",
   "execution_count": 5,
   "metadata": {},
   "outputs": [
    {
     "name": "stdout",
     "output_type": "stream",
     "text": [
      "1. 제86조 ①국무총리는 국회의 동의를 얻어 대통령이 임명한다.\n",
      "2. 제104조 ①대법원장은 국회의 동의를 얻어 대통령이 임명한다.\n",
      "3. ②이 헌법공포 당시의 국회의원의 임기는 제1항에 의한 국회의 최초의 집회일 전일까지로 한다.\n"
     ]
    }
   ],
   "source": [
    "from langchain.vectorstores import FAISS\n",
    "from langchain.embeddings import HuggingFaceEmbeddings\n",
    "\n",
    "# 동일한 임베딩 모델을 로딩해야 로드 가능\n",
    "embedding = HuggingFaceEmbeddings(model_name=\"intfloat/multilingual-e5-small\")\n",
    "\n",
    "# 저장된 인덱스 불러오기\n",
    "faiss_index = FAISS.load_local(\n",
    "    \"embeddings/faiss_index_e5\",\n",
    "    embeddings=embedding,\n",
    "    allow_dangerous_deserialization=True\n",
    ")\n",
    "\n",
    "# 검색기 준비\n",
    "retriever = faiss_index.as_retriever(search_kwargs={\"k\": 3})\n",
    "\n",
    "# 테스트 쿼리\n",
    "query = \"국회의 임기\"\n",
    "results = retriever.get_relevant_documents(query)\n",
    "for i, doc in enumerate(results, 1):\n",
    "    print(f\"{i}.\", doc.page_content.strip())"
   ]
  },
  {
   "cell_type": "markdown",
   "metadata": {},
   "source": [
    "### 실습 시 주의점\n",
    "\n",
    "* `load_local()` 시에는 **동일한 임베딩 모델**을 다시 불러와야 합니다.\n",
    "* `k`값을 조정하면 검색 결과 개수를 제어할 수 있습니다.\n",
    "\n",
    "### 정리\n",
    "\n",
    "* FAISS는 벡터 인덱스를 `.faiss`와 `.pkl` 두 개의 파일로 구성합니다.\n",
    "* `save_local()` / `load_local()`을 통해 저장과 복원이 매우 간단합니다.\n",
    "* RAG 파이프라인에서는 **벡터 재사용이 가능하도록 구조화된 저장 방식**이 핵심입니다."
   ]
  }
 ],
 "metadata": {
  "kernelspec": {
   "display_name": "Python 3",
   "language": "python",
   "name": "python3"
  },
  "language_info": {
   "codemirror_mode": {
    "name": "ipython",
    "version": 3
   },
   "file_extension": ".py",
   "mimetype": "text/x-python",
   "name": "python",
   "nbconvert_exporter": "python",
   "pygments_lexer": "ipython3",
   "version": "3.10.16"
  }
 },
 "nbformat": 4,
 "nbformat_minor": 2
}
