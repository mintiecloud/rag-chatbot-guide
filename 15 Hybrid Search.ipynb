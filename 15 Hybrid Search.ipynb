{
 "cells": [
  {
   "cell_type": "markdown",
   "metadata": {},
   "source": [
    "# Hybrid Search 실습\n",
    "이번 실습에서는 키워드 기반 검색(BM25)과 임베딩 기반 검색을 결합한 Hybrid Search를 구성하고 비교 실험을 진행합니다."
   ]
  },
  {
   "cell_type": "markdown",
   "metadata": {},
   "source": [
    "## 1. Hybrid Search란?\n",
    "- **BM25**는 키워드 중심의 전통적인 정보 검색 알고리즘\n",
    "- **Embedding**은 의미 기반 벡터 검색\n",
    "- 두 방식을 결합하면 단어 일치와 의미 유사성 모두를 반영 가능"
   ]
  },
  {
   "cell_type": "markdown",
   "metadata": {},
   "source": [
    "## 2. 텍스트 로딩 및 분할 (간단하게 진행)"
   ]
  },
  {
   "cell_type": "code",
   "execution_count": null,
   "metadata": {},
   "outputs": [],
   "source": [
    "!pip install rank_bm25"
   ]
  },
  {
   "cell_type": "code",
   "execution_count": 15,
   "metadata": {},
   "outputs": [],
   "source": [
    "from langchain.text_splitter import RecursiveCharacterTextSplitter\n",
    "from langchain.embeddings import HuggingFaceEmbeddings\n",
    "from langchain.vectorstores import FAISS\n",
    "from langchain.retrievers import BM25Retriever, EnsembleRetriever\n",
    "\n",
    "with open(\"kr_constitution_cleaned.txt\", \"r\", encoding=\"utf-8\") as f:\n",
    "    text = f.read()\n",
    "\n",
    "splitter = RecursiveCharacterTextSplitter(chunk_size=300, chunk_overlap=30)\n",
    "docs = splitter.create_documents([text])"
   ]
  },
  {
   "cell_type": "markdown",
   "metadata": {},
   "source": [
    "## 3. 개별 검색기 구성 (BM25 + FAISS)"
   ]
  },
  {
   "cell_type": "code",
   "execution_count": 16,
   "metadata": {},
   "outputs": [],
   "source": [
    "# BM25 (단어 기반)\n",
    "bm25 = BM25Retriever.from_documents(docs)\n",
    "bm25.k = 3"
   ]
  },
  {
   "cell_type": "code",
   "execution_count": 17,
   "metadata": {},
   "outputs": [],
   "source": [
    "# FAISS (임베딩 기반)\n",
    "embedding = HuggingFaceEmbeddings(model_name=\"intfloat/multilingual-e5-small\")\n",
    "faiss = FAISS.from_documents(docs, embedding)\n",
    "faiss_retriever = faiss.as_retriever(search_kwargs={\"k\": 3})"
   ]
  },
  {
   "cell_type": "markdown",
   "metadata": {},
   "source": [
    "## 4. Hybrid Retriever 구성"
   ]
  },
  {
   "cell_type": "code",
   "execution_count": 18,
   "metadata": {},
   "outputs": [],
   "source": [
    "# 두 검색기를 가중치로 결합 (0~1 사이)\n",
    "hybrid = EnsembleRetriever(retrievers=[bm25, faiss_retriever], weights=[0.5, 0.5])"
   ]
  },
  {
   "cell_type": "markdown",
   "metadata": {},
   "source": [
    "## 5. 검색 결과 비교"
   ]
  },
  {
   "cell_type": "code",
   "execution_count": null,
   "metadata": {},
   "outputs": [],
   "source": [
    "query = \"헌법에서 대통령의 임기에 대해 알려줘\"\n",
    "\n",
    "print(\"\\n[BM25 검색 결과]\")\n",
    "for i, d in enumerate(bm25.get_relevant_documents(query), 1):\n",
    "    print(f\"{i}.\", d.page_content.strip()[:100])\n",
    "\n",
    "print(\"\\n[FAISS 검색 결과]\")\n",
    "for i, d in enumerate(faiss_retriever.get_relevant_documents(query), 1):\n",
    "    print(f\"{i}.\", d.page_content.strip()[:100])\n",
    "\n",
    "print(\"\\n[Hybrid 검색 결과]\")\n",
    "for i, d in enumerate(hybrid.get_relevant_documents(query), 1):\n",
    "    print(f\"{i}.\", d.page_content.strip()[:100])"
   ]
  },
  {
   "cell_type": "markdown",
   "metadata": {},
   "source": [
    "## 6. 정리\n",
    "- Hybrid Search는 키워드 기반 BM25와 의미 기반 Embedding 검색을 결합해 보완적인 검색 품질을 제공합니다.\n",
    "- 실제 서비스에서는 가중치를 조절하거나 필터링 조건을 함께 적용해 더욱 정교한 검색이 가능합니다."
   ]
  }
 ],
 "metadata": {
  "kernelspec": {
   "display_name": "rag-env",
   "language": "python",
   "name": "python3"
  },
  "language_info": {
   "codemirror_mode": {
    "name": "ipython",
    "version": 3
   },
   "file_extension": ".py",
   "mimetype": "text/x-python",
   "name": "python",
   "nbconvert_exporter": "python",
   "pygments_lexer": "ipython3",
   "version": "3.10.16"
  }
 },
 "nbformat": 4,
 "nbformat_minor": 2
}
