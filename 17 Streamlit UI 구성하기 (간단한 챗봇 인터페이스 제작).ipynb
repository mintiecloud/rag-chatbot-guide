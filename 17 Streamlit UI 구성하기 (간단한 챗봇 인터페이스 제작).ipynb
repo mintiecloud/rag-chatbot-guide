{
 "cells": [
  {
   "cell_type": "markdown",
   "metadata": {},
   "source": [
    "# CHAPTER 6. Streamlit UI 구성하기\n",
    "지금까지 만든 RAG 챗봇을 간단한 웹 인터페이스로 띄워봅니다.\n",
    "Streamlit을 이용하면 별도 프론트엔드 개발 없이 쉽게 챗봇 UI를 구현할 수 있습니다."
   ]
  },
  {
   "cell_type": "markdown",
   "metadata": {},
   "source": [
    "## 1. Streamlit 설치\n",
    "먼저 streamlit을 설치합니다."
   ]
  },
  {
   "cell_type": "code",
   "execution_count": 2,
   "metadata": {},
   "outputs": [],
   "source": [
    "# !pip install streamlit"
   ]
  },
  {
   "cell_type": "markdown",
   "metadata": {},
   "source": [
    "## 2. streamlit_app.py 파일 구성\n",
    "UI는 설정으로 단순하게 구성합니다.\n",
    "파일명을 `streamlit_app.py`로 저장해 실행합니다."
   ]
  },
  {
   "cell_type": "code",
   "execution_count": null,
   "metadata": {},
   "outputs": [],
   "source": [
    "import streamlit as st\n",
    "from langchain.vectorstores import FAISS\n",
    "from langchain.embeddings import HuggingFaceEmbeddings\n",
    "from langchain.chat_models import ChatOpenAI\n",
    "from langchain.chains import RetrievalQA\n",
    "from dotenv import load_dotenv\n",
    "import os\n",
    "\n",
    "load_dotenv()\n",
    "\n",
    "# 모델 & 인덱스 로딩\n",
    "embedding = HuggingFaceEmbeddings(model_name=\"intfloat/multilingual-e5-small\")\n",
    "faiss_index = FAISS.load_local(\n",
    "    \"embeddings/faiss_index_e5\",\n",
    "    embeddings=embedding,\n",
    "    allow_dangerous_deserialization=True\n",
    ")\n",
    "retriever = faiss_index.as_retriever(search_kwargs={\"k\": 3})\n",
    "llm = ChatOpenAI(model=\"gpt-3.5-turbo\", temperature=0)\n",
    "\n",
    "qa_chain = RetrievalQA.from_chain_type(llm=llm, retriever=retriever, chain_type=\"stuff\")\n",
    "\n",
    "# Streamlit UI\n",
    "st.title(\"RAG 챗봇 (내 문서 기반)\")\n",
    "query = st.text_input(\"질문을 입력하세요:\")\n",
    "if query:\n",
    "    answer = qa_chain.run(query)\n",
    "    st.write(\"답변:\", answer)"
   ]
  },
  {
   "cell_type": "markdown",
   "metadata": {},
   "source": [
    "## 3. 실행 방법\n",
    "터미널에서 아래 명령어를 실행하면 웹 UI가 열립니다."
   ]
  },
  {
   "cell_type": "code",
   "execution_count": null,
   "metadata": {},
   "outputs": [],
   "source": [
    "streamlit run streamlit_app.py"
   ]
  },
  {
   "cell_type": "markdown",
   "metadata": {},
   "source": [
    "## 4. 정리\n",
    "- streamlit을 활용하면 간단한 코드로 챗봇 UI를 띄울 수 있습니다.\n",
    "- 실습에서는 LLM, FAISS 인덱스, RetrievalQA 체인을 그대로 활용했습니다.\n",
    "- 이후 필요 시 텍스트 영역 확장, 채팅 기록 유지, 파일 업로드 등 기능을 추가해보세요."
   ]
  }
 ],
 "metadata": {
  "kernelspec": {
   "display_name": "rag-env",
   "language": "python",
   "name": "python3"
  },
  "language_info": {
   "codemirror_mode": {
    "name": "ipython",
    "version": 3
   },
   "file_extension": ".py",
   "mimetype": "text/x-python",
   "name": "python",
   "nbconvert_exporter": "python",
   "pygments_lexer": "ipython3",
   "version": "3.10.16"
  }
 },
 "nbformat": 4,
 "nbformat_minor": 2
}
