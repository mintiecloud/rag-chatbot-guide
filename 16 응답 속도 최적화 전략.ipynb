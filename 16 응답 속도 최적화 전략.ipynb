{
 "cells": [
  {
   "cell_type": "markdown",
   "metadata": {},
   "source": [
    "# 응답 속도 최적화 전략\n",
    "RAG 챗봇의 응답 속도는 검색 방식과 설정에 따라 크게 달라질 수 있습니다.\n",
    "이번 실습에서는 자주 쓰이는 최적화 전략들을 실험해봅니다."
   ]
  },
  {
   "cell_type": "markdown",
   "metadata": {},
   "source": [
    "## 1. 실습 목표\n",
    "- 검색 속도에 영향을 주는 요소들을 이해합니다\n",
    "- Top-K 조정, Chunk 수 제한, Embedding 캐싱 등을 실습합니다"
   ]
  },
  {
   "cell_type": "markdown",
   "metadata": {},
   "source": [
    "## 2. 사전 준비: 데이터 로딩 및 벡터 DB 구성"
   ]
  },
  {
   "cell_type": "code",
   "execution_count": 14,
   "metadata": {},
   "outputs": [],
   "source": [
    "from langchain.embeddings import HuggingFaceEmbeddings\n",
    "from langchain.vectorstores import FAISS\n",
    "from langchain.text_splitter import RecursiveCharacterTextSplitter\n",
    "from dotenv import load_dotenv\n",
    "import os\n",
    "\n",
    "load_dotenv()\n",
    "\n",
    "embedding = HuggingFaceEmbeddings(model_name=\"intfloat/multilingual-e5-small\")\n",
    "with open(\"kr_constitution_cleaned.txt\", \"r\", encoding=\"utf-8\") as f:\n",
    "    text = f.read()\n",
    "splitter = RecursiveCharacterTextSplitter(chunk_size=300, chunk_overlap=30)\n",
    "docs = splitter.create_documents([text])\n",
    "faiss = FAISS.from_documents(docs, embedding)\n",
    "retriever = faiss.as_retriever()"
   ]
  },
  {
   "cell_type": "markdown",
   "metadata": {},
   "source": [
    "## 3. Top-K 설정에 따른 속도 비교"
   ]
  },
  {
   "cell_type": "code",
   "execution_count": 15,
   "metadata": {},
   "outputs": [
    {
     "name": "stdout",
     "output_type": "stream",
     "text": [
      "Top-1 검색 소요 시간: 0.0922초\n",
      "Top-3 검색 소요 시간: 0.0171초\n",
      "Top-5 검색 소요 시간: 0.0160초\n",
      "Top-50 검색 소요 시간: 0.0169초\n"
     ]
    }
   ],
   "source": [
    "import time\n",
    "\n",
    "query = \"국회의 임기는 몇 년인가요?\"\n",
    "for k in [1, 3, 5, 50]:\n",
    "    retriever.search_kwargs['k'] = k\n",
    "    start = time.time()\n",
    "    _ = retriever.get_relevant_documents(query)\n",
    "    duration = time.time() - start\n",
    "    print(f\"Top-{k} 검색 소요 시간: {duration:.4f}초\")"
   ]
  },
  {
   "cell_type": "markdown",
   "metadata": {},
   "source": [
    "## 4. Chunk 수 제한을 통한 속도 최적화"
   ]
  },
  {
   "cell_type": "code",
   "execution_count": 16,
   "metadata": {},
   "outputs": [
    {
     "name": "stdout",
     "output_type": "stream",
     "text": [
      "절반 분량 인덱스 검색 소요 시간: 0.014031171798706055\n"
     ]
    }
   ],
   "source": [
    "# 텍스트 일부만 사용 (절반만)\n",
    "docs_half = docs[:len(docs)//2]\n",
    "faiss_half = FAISS.from_documents(docs_half, embedding)\n",
    "retriever_half = faiss_half.as_retriever(search_kwargs={\"k\": 3})\n",
    "\n",
    "start = time.time()\n",
    "_ = retriever_half.get_relevant_documents(query)\n",
    "print(\"절반 분량 인덱스 검색 소요 시간:\", time.time() - start)"
   ]
  },
  {
   "cell_type": "markdown",
   "metadata": {},
   "source": [
    "## 5. Embedding 캐싱 전략\n",
    "- FAISS 인덱스를 저장하고, 다시 불러와 재사용하는 방식\n",
    "- 저장과 불러오기 시 동일한 임베딩 모델을 사용해야 합니다.\n",
    "- 파일 경로는 상대경로나 절대경로 모두 사용 가능하며, .save_local()은 폴더를 자동 생성합니다.\n",
    "- Streamlit 앱 등에서는 이 로딩 코드를 @st.cache_resource 등과 함께 사용하면 초기화 시간까지 줄일 수 있습니다."
   ]
  },
  {
   "cell_type": "markdown",
   "metadata": {},
   "source": [
    "## 6. 정리\n",
    "- Top-K 값이 클수록 검색 시간이 늘어남\n",
    "- 전체 문서 수를 줄이면 빠르게 반응 가능\n",
    "- 실제 운영 환경에서는 캐싱, 필터링, 조건 검색 등을 병행하여 성능을 최적화합니다."
   ]
  }
 ],
 "metadata": {
  "kernelspec": {
   "display_name": "rag-env",
   "language": "python",
   "name": "python3"
  },
  "language_info": {
   "codemirror_mode": {
    "name": "ipython",
    "version": 3
   },
   "file_extension": ".py",
   "mimetype": "text/x-python",
   "name": "python",
   "nbconvert_exporter": "python",
   "pygments_lexer": "ipython3",
   "version": "3.10.16"
  }
 },
 "nbformat": 4,
 "nbformat_minor": 2
}
